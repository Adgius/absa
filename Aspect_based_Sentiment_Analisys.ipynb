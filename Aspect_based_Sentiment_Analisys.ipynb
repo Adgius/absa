{
 "cells": [
  {
   "cell_type": "markdown",
   "metadata": {
    "id": "pAH4ZmW4Rwun"
   },
   "source": [
    "# Dataset"
   ]
  },
  {
   "cell_type": "markdown",
   "metadata": {
    "id": "zd5pG9YEbO3j"
   },
   "source": [
    "https://alt.qcri.org/semeval2016/task5/index.php?id=data-and-tools"
   ]
  },
  {
   "cell_type": "code",
   "execution_count": 1,
   "metadata": {},
   "outputs": [],
   "source": [
    "from src.data.load_semeval import load_bytes, get_data"
   ]
  },
  {
   "cell_type": "code",
   "execution_count": 2,
   "metadata": {
    "colab": {
     "base_uri": "https://localhost:8080/"
    },
    "id": "9A3T80bDimbM",
    "outputId": "3d98b894-e17c-4e18-8a1f-6ea440cfe677"
   },
   "outputs": [
    {
     "name": "stderr",
     "output_type": "stream",
     "text": [
      "100%|██████████████████████████████████████████████████████████████████████████| 3655/3655 [00:00<00:00, 332268.00it/s]\n",
      "100%|██████████████████████████████████████████████████████████████████████████| 1209/1209 [00:00<00:00, 402229.99it/s]\n"
     ]
    }
   ],
   "source": [
    "train = get_data(load_bytes('https://huggingface.co/datasets/hienbm/SemEval-2016/resolve/main/restaurants_russian_training.xml'))\n",
    "test = get_data(load_bytes('https://huggingface.co/datasets/hienbm/SemEval-2016/resolve/main/restaurants_russian_test.xml'))"
   ]
  },
  {
   "cell_type": "code",
   "execution_count": 415,
   "metadata": {},
   "outputs": [],
   "source": [
    "train = train.with_columns(pl.col('text').rank('dense').alias('id'))\n",
    "test = test.with_columns(pl.col('text').rank('dense').alias('id'))"
   ]
  },
  {
   "cell_type": "code",
   "execution_count": 416,
   "metadata": {
    "colab": {
     "base_uri": "https://localhost:8080/",
     "height": 255
    },
    "id": "rpSSihesowbk",
    "outputId": "4cae95d4-da33-48ad-fa83-5b7274dcaa76"
   },
   "outputs": [
    {
     "data": {
      "text/html": [
       "<div><style>\n",
       ".dataframe > thead > tr > th,\n",
       ".dataframe > tbody > tr > td {\n",
       "  text-align: right;\n",
       "  white-space: pre-wrap;\n",
       "}\n",
       "</style>\n",
       "<small>shape: (5, 7)</small><table border=\"1\" class=\"dataframe\"><thead><tr><th>id</th><th>text</th><th>target</th><th>category</th><th>polarity</th><th>start</th><th>end</th></tr><tr><td>u32</td><td>str</td><td>str</td><td>str</td><td>str</td><td>str</td><td>str</td></tr></thead><tbody><tr><td>1534</td><td>&quot;Обслуживание х…</td><td>&quot;Обслуживание&quot;</td><td>&quot;SERVICE#GENERA…</td><td>&quot;positive&quot;</td><td>&quot;0&quot;</td><td>&quot;12&quot;</td></tr><tr><td>1534</td><td>&quot;Обслуживание х…</td><td>&quot;метрдотель&quot;</td><td>&quot;SERVICE#GENERA…</td><td>&quot;positive&quot;</td><td>&quot;34&quot;</td><td>&quot;44&quot;</td></tr><tr><td>1601</td><td>&quot;Он был в уютно…</td><td>&quot;уголке&quot;</td><td>&quot;AMBIENCE#GENER…</td><td>&quot;positive&quot;</td><td>&quot;16&quot;</td><td>&quot;22&quot;</td></tr><tr><td>1601</td><td>&quot;Он был в уютно…</td><td>&quot;приглушенный с…</td><td>&quot;AMBIENCE#GENER…</td><td>&quot;positive&quot;</td><td>&quot;46&quot;</td><td>&quot;63&quot;</td></tr><tr><td>1290</td><td>&quot;На наш не боль…</td><td>&quot;блюд&quot;</td><td>&quot;FOOD#QUALITY&quot;</td><td>&quot;positive&quot;</td><td>&quot;53&quot;</td><td>&quot;57&quot;</td></tr></tbody></table></div>"
      ],
      "text/plain": [
       "shape: (5, 7)\n",
       "┌──────┬───────────────────────────────────┬───────────────────┬──────────────────┬──────────┬───────┬─────┐\n",
       "│ id   ┆ text                              ┆ target            ┆ category         ┆ polarity ┆ start ┆ end │\n",
       "│ ---  ┆ ---                               ┆ ---               ┆ ---              ┆ ---      ┆ ---   ┆ --- │\n",
       "│ u32  ┆ str                               ┆ str               ┆ str              ┆ str      ┆ str   ┆ str │\n",
       "╞══════╪═══════════════════════════════════╪═══════════════════╪══════════════════╪══════════╪═══════╪═════╡\n",
       "│ 1534 ┆ Обслуживание хорошее нас встрети… ┆ Обслуживание      ┆ SERVICE#GENERAL  ┆ positive ┆ 0     ┆ 12  │\n",
       "│ 1534 ┆ Обслуживание хорошее нас встрети… ┆ метрдотель        ┆ SERVICE#GENERAL  ┆ positive ┆ 34    ┆ 44  │\n",
       "│ 1601 ┆ Он был в уютном уголке в конце г… ┆ уголке            ┆ AMBIENCE#GENERAL ┆ positive ┆ 16    ┆ 22  │\n",
       "│ 1601 ┆ Он был в уютном уголке в конце г… ┆ приглушенный свет ┆ AMBIENCE#GENERAL ┆ positive ┆ 46    ┆ 63  │\n",
       "│ 1290 ┆ На наш не большой банкетик мы за… ┆ блюд              ┆ FOOD#QUALITY     ┆ positive ┆ 53    ┆ 57  │\n",
       "└──────┴───────────────────────────────────┴───────────────────┴──────────────────┴──────────┴───────┴─────┘"
      ]
     },
     "execution_count": 416,
     "metadata": {},
     "output_type": "execute_result"
    }
   ],
   "source": [
    "train.head()"
   ]
  },
  {
   "cell_type": "code",
   "execution_count": 428,
   "metadata": {},
   "outputs": [
    {
     "data": {
      "text/html": [
       "<div><style>\n",
       ".dataframe > thead > tr > th,\n",
       ".dataframe > tbody > tr > td {\n",
       "  text-align: right;\n",
       "  white-space: pre-wrap;\n",
       "}\n",
       "</style>\n",
       "<small>shape: (5, 7)</small><table border=\"1\" class=\"dataframe\"><thead><tr><th>id</th><th>text</th><th>target</th><th>category</th><th>polarity</th><th>start</th><th>end</th></tr><tr><td>u32</td><td>str</td><td>str</td><td>str</td><td>str</td><td>str</td><td>str</td></tr></thead><tbody><tr><td>586</td><td>&quot;Очень милый, у…</td><td>&quot;ресторанчик&quot;</td><td>&quot;AMBIENCE#GENER…</td><td>&quot;positive&quot;</td><td>&quot;20&quot;</td><td>&quot;31&quot;</td></tr><tr><td>586</td><td>&quot;Очень милый, у…</td><td>&quot;порции&quot;</td><td>&quot;FOOD#STYLE_OPT…</td><td>&quot;positive&quot;</td><td>&quot;64&quot;</td><td>&quot;70&quot;</td></tr><tr><td>586</td><td>&quot;Очень милый, у…</td><td>&quot;порции&quot;</td><td>&quot;FOOD#PRICES&quot;</td><td>&quot;positive&quot;</td><td>&quot;64&quot;</td><td>&quot;70&quot;</td></tr><tr><td>586</td><td>&quot;Очень милый, у…</td><td>&quot;блюд&quot;</td><td>&quot;FOOD#QUALITY&quot;</td><td>&quot;positive&quot;</td><td>&quot;82&quot;</td><td>&quot;86&quot;</td></tr><tr><td>738</td><td>&quot;Салаты со свеж…</td><td>&quot;Салаты&quot;</td><td>&quot;FOOD#QUALITY&quot;</td><td>&quot;positive&quot;</td><td>&quot;0&quot;</td><td>&quot;6&quot;</td></tr></tbody></table></div>"
      ],
      "text/plain": [
       "shape: (5, 7)\n",
       "┌─────┬───────────────────────────────────┬─────────────┬────────────────────┬──────────┬───────┬─────┐\n",
       "│ id  ┆ text                              ┆ target      ┆ category           ┆ polarity ┆ start ┆ end │\n",
       "│ --- ┆ ---                               ┆ ---         ┆ ---                ┆ ---      ┆ ---   ┆ --- │\n",
       "│ u32 ┆ str                               ┆ str         ┆ str                ┆ str      ┆ str   ┆ str │\n",
       "╞═════╪═══════════════════════════════════╪═════════════╪════════════════════╪══════════╪═══════╪═════╡\n",
       "│ 586 ┆ Очень милый, уютный ресторанчик … ┆ ресторанчик ┆ AMBIENCE#GENERAL   ┆ positive ┆ 20    ┆ 31  │\n",
       "│ 586 ┆ Очень милый, уютный ресторанчик … ┆ порции      ┆ FOOD#STYLE_OPTIONS ┆ positive ┆ 64    ┆ 70  │\n",
       "│ 586 ┆ Очень милый, уютный ресторанчик … ┆ порции      ┆ FOOD#PRICES        ┆ positive ┆ 64    ┆ 70  │\n",
       "│ 586 ┆ Очень милый, уютный ресторанчик … ┆ блюд        ┆ FOOD#QUALITY       ┆ positive ┆ 82    ┆ 86  │\n",
       "│ 738 ┆ Салаты со свежайшей зеленью, мяс… ┆ Салаты      ┆ FOOD#QUALITY       ┆ positive ┆ 0     ┆ 6   │\n",
       "└─────┴───────────────────────────────────┴─────────────┴────────────────────┴──────────┴───────┴─────┘"
      ]
     },
     "execution_count": 428,
     "metadata": {},
     "output_type": "execute_result"
    }
   ],
   "source": [
    "test.head()"
   ]
  },
  {
   "cell_type": "markdown",
   "metadata": {
    "id": "pI10l5E7puLV"
   },
   "source": [
    "# BERT ATE"
   ]
  },
  {
   "cell_type": "code",
   "execution_count": 4,
   "metadata": {},
   "outputs": [
    {
     "name": "stderr",
     "output_type": "stream",
     "text": [
      "C:\\Users\\ibragimov_r\\AppData\\Roaming\\Python\\Python311\\site-packages\\pandas\\core\\arrays\\masked.py:60: UserWarning: Pandas requires version '1.3.6' or newer of 'bottleneck' (version '1.3.5' currently installed).\n",
      "  from pandas.core import (\n"
     ]
    }
   ],
   "source": [
    "import torch\n",
    "\n",
    "from tqdm import tqdm\n",
    "from transformers import BertModel, AutoTokenizer\n",
    "from torch.utils.data import DataLoader\n",
    "from torch import nn\n",
    "from src.models import ATE"
   ]
  },
  {
   "cell_type": "code",
   "execution_count": 5,
   "metadata": {
    "colab": {
     "base_uri": "https://localhost:8080/"
    },
    "id": "cBnoEqt1gCcV",
    "outputId": "73f031f1-4bb6-478a-bc05-4666002a9f19",
    "scrolled": true
   },
   "outputs": [
    {
     "name": "stderr",
     "output_type": "stream",
     "text": [
      "Some weights of the model checkpoint at DeepPavlov/rubert-base-cased-conversational were not used when initializing BertModel: ['cls.predictions.decoder.weight', 'cls.seq_relationship.weight', 'cls.predictions.transform.dense.bias', 'cls.predictions.transform.dense.weight', 'cls.predictions.transform.LayerNorm.bias', 'cls.predictions.decoder.bias', 'cls.seq_relationship.bias', 'cls.predictions.transform.LayerNorm.weight', 'cls.predictions.bias']\n",
      "- This IS expected if you are initializing BertModel from the checkpoint of a model trained on another task or with another architecture (e.g. initializing a BertForSequenceClassification model from a BertForPreTraining model).\n",
      "- This IS NOT expected if you are initializing BertModel from the checkpoint of a model that you expect to be exactly identical (initializing a BertForSequenceClassification model from a BertForSequenceClassification model).\n"
     ]
    }
   ],
   "source": [
    "tokenizer = AutoTokenizer.from_pretrained('DeepPavlov/rubert-base-cased-conversational')\n",
    "model = BertModel.from_pretrained('DeepPavlov/rubert-base-cased-conversational')"
   ]
  },
  {
   "cell_type": "code",
   "execution_count": 6,
   "metadata": {
    "id": "L2zw3dIKmCGe"
   },
   "outputs": [
    {
     "name": "stdout",
     "output_type": "stream",
     "text": [
      "\n"
     ]
    }
   ],
   "source": [
    "device = torch.device('cuda' if torch.cuda.is_available() else 'cpu')\n",
    "model.to(device)\n",
    "print()"
   ]
  },
  {
   "cell_type": "markdown",
   "metadata": {
    "id": "1ivSACpKrHTT"
   },
   "source": [
    "![image.png](data:image/png;base64,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)"
   ]
  },
  {
   "cell_type": "code",
   "execution_count": 7,
   "metadata": {
    "colab": {
     "base_uri": "https://localhost:8080/"
    },
    "id": "gPjn8F_8orSr",
    "outputId": "8eb1920f-1a63-4af7-af6f-9534ddf1ceb7"
   },
   "outputs": [
    {
     "name": "stdout",
     "output_type": "stream",
     "text": [
      "[CLS]           -100\n",
      "Гар             0\n",
      "##дероб         0\n",
      "##а             0\n",
      "в               0\n",
      "заведении       0\n",
      "нет             0\n",
      ",               0\n",
      "зато            0\n",
      "есть            0\n",
      "напол           0\n",
      "##ь             0\n",
      "##ные           0\n",
      "вешал           0\n",
      "##ки            0\n",
      ")               0\n",
      ".               0\n",
      "через           0\n",
      "несколько       0\n",
      "минут           0\n",
      "к               0\n",
      "нам             0\n",
      "подошел         0\n",
      "официант        1\n",
      "с               0\n",
      "меню            0\n",
      ".               0\n",
      "[SEP]           -100\n"
     ]
    }
   ],
   "source": [
    "train_ds = ATE.TrainDataset(train, tokenizer)\n",
    "test_ds = ATE.TrainDataset(test, tokenizer)\n",
    "train_example = train_ds[4]\n",
    "\n",
    "for i in range(len(train_example['input_ids'])):\n",
    "    print(f\"{tokenizer.convert_ids_to_tokens(train_example['input_ids'][i]):<15} {train_example['labels'][i]}\")"
   ]
  },
  {
   "cell_type": "code",
   "execution_count": 8,
   "metadata": {
    "id": "ZUyCxtAdzyHm"
   },
   "outputs": [],
   "source": [
    "train_dl = DataLoader(train_ds, collate_fn=ATE.collate_fn, batch_size=5)\n",
    "test_dl = DataLoader(test_ds, collate_fn=ATE.collate_fn, batch_size=5)"
   ]
  },
  {
   "cell_type": "code",
   "execution_count": 9,
   "metadata": {},
   "outputs": [],
   "source": [
    "N_EPOCH = 10\n",
    "\n",
    "model_NER = ATE.BertForTokenClassification(bert=model)\n",
    "criterion = nn.CrossEntropyLoss(ignore_index=-100, weight=torch.tensor([0.2, 0.4, 0.4], device=device))\n",
    "optimizer = torch.optim.Adam(params=model_NER.parameters(), lr=1e-5)"
   ]
  },
  {
   "cell_type": "code",
   "execution_count": 10,
   "metadata": {
    "colab": {
     "base_uri": "https://localhost:8080/"
    },
    "id": "akYCsFZdDaSJ",
    "outputId": "ac188461-3d59-4f23-f423-42c8f9467998"
   },
   "outputs": [
    {
     "name": "stderr",
     "output_type": "stream",
     "text": [
      "100%|████████████████████████████████████████████████████████████████████████████████| 547/547 [00:50<00:00, 10.87it/s]\n"
     ]
    },
    {
     "name": "stdout",
     "output_type": "stream",
     "text": [
      "1 epoch. Train loss: 0.20488689201790328\n"
     ]
    },
    {
     "name": "stderr",
     "output_type": "stream",
     "text": [
      "100%|████████████████████████████████████████████████████████████████████████████████| 182/182 [00:03<00:00, 54.52it/s]\n"
     ]
    },
    {
     "name": "stdout",
     "output_type": "stream",
     "text": [
      "\n",
      "\n",
      "              precision    recall  f1-score   support\n",
      "\n",
      "         0.0       0.99      0.95      0.97     13786\n",
      "         1.0       0.73      0.87      0.80       952\n",
      "         2.0       0.65      0.90      0.76       888\n",
      "\n",
      "    accuracy                           0.94     15626\n",
      "   macro avg       0.79      0.91      0.84     15626\n",
      "weighted avg       0.95      0.94      0.95     15626\n",
      "\n"
     ]
    },
    {
     "name": "stderr",
     "output_type": "stream",
     "text": [
      "100%|████████████████████████████████████████████████████████████████████████████████| 547/547 [00:50<00:00, 10.92it/s]\n"
     ]
    },
    {
     "name": "stdout",
     "output_type": "stream",
     "text": [
      "2 epoch. Train loss: 0.08413354375176609\n"
     ]
    },
    {
     "name": "stderr",
     "output_type": "stream",
     "text": [
      "100%|████████████████████████████████████████████████████████████████████████████████| 182/182 [00:03<00:00, 53.69it/s]\n"
     ]
    },
    {
     "name": "stdout",
     "output_type": "stream",
     "text": [
      "\n",
      "\n",
      "              precision    recall  f1-score   support\n",
      "\n",
      "         0.0       0.99      0.96      0.97     13786\n",
      "         1.0       0.73      0.88      0.80       952\n",
      "         2.0       0.69      0.87      0.77       888\n",
      "\n",
      "    accuracy                           0.95     15626\n",
      "   macro avg       0.80      0.90      0.85     15626\n",
      "weighted avg       0.95      0.95      0.95     15626\n",
      "\n"
     ]
    },
    {
     "name": "stderr",
     "output_type": "stream",
     "text": [
      "100%|████████████████████████████████████████████████████████████████████████████████| 547/547 [00:50<00:00, 10.88it/s]\n"
     ]
    },
    {
     "name": "stdout",
     "output_type": "stream",
     "text": [
      "3 epoch. Train loss: 0.047202774538263555\n"
     ]
    },
    {
     "name": "stderr",
     "output_type": "stream",
     "text": [
      "100%|████████████████████████████████████████████████████████████████████████████████| 182/182 [00:03<00:00, 53.64it/s]\n"
     ]
    },
    {
     "name": "stdout",
     "output_type": "stream",
     "text": [
      "\n",
      "\n",
      "              precision    recall  f1-score   support\n",
      "\n",
      "         0.0       0.99      0.95      0.97     13786\n",
      "         1.0       0.71      0.90      0.80       952\n",
      "         2.0       0.69      0.88      0.78       888\n",
      "\n",
      "    accuracy                           0.95     15626\n",
      "   macro avg       0.80      0.91      0.85     15626\n",
      "weighted avg       0.95      0.95      0.95     15626\n",
      "\n"
     ]
    },
    {
     "name": "stderr",
     "output_type": "stream",
     "text": [
      "100%|████████████████████████████████████████████████████████████████████████████████| 547/547 [00:49<00:00, 10.96it/s]\n"
     ]
    },
    {
     "name": "stdout",
     "output_type": "stream",
     "text": [
      "4 epoch. Train loss: 0.025791522383256143\n"
     ]
    },
    {
     "name": "stderr",
     "output_type": "stream",
     "text": [
      "100%|████████████████████████████████████████████████████████████████████████████████| 182/182 [00:03<00:00, 55.00it/s]\n"
     ]
    },
    {
     "name": "stdout",
     "output_type": "stream",
     "text": [
      "\n",
      "\n",
      "              precision    recall  f1-score   support\n",
      "\n",
      "         0.0       0.99      0.95      0.97     13786\n",
      "         1.0       0.70      0.90      0.79       952\n",
      "         2.0       0.70      0.86      0.77       888\n",
      "\n",
      "    accuracy                           0.95     15626\n",
      "   macro avg       0.80      0.90      0.84     15626\n",
      "weighted avg       0.95      0.95      0.95     15626\n",
      "\n"
     ]
    },
    {
     "name": "stderr",
     "output_type": "stream",
     "text": [
      "100%|████████████████████████████████████████████████████████████████████████████████| 547/547 [00:48<00:00, 11.17it/s]\n"
     ]
    },
    {
     "name": "stdout",
     "output_type": "stream",
     "text": [
      "5 epoch. Train loss: 0.017872251158168793\n"
     ]
    },
    {
     "name": "stderr",
     "output_type": "stream",
     "text": [
      "100%|████████████████████████████████████████████████████████████████████████████████| 182/182 [00:03<00:00, 55.88it/s]\n"
     ]
    },
    {
     "name": "stdout",
     "output_type": "stream",
     "text": [
      "\n",
      "\n",
      "              precision    recall  f1-score   support\n",
      "\n",
      "         0.0       0.98      0.96      0.97     13786\n",
      "         1.0       0.74      0.88      0.80       952\n",
      "         2.0       0.75      0.82      0.79       888\n",
      "\n",
      "    accuracy                           0.95     15626\n",
      "   macro avg       0.83      0.89      0.85     15626\n",
      "weighted avg       0.96      0.95      0.95     15626\n",
      "\n"
     ]
    },
    {
     "name": "stderr",
     "output_type": "stream",
     "text": [
      "100%|████████████████████████████████████████████████████████████████████████████████| 547/547 [00:48<00:00, 11.19it/s]\n"
     ]
    },
    {
     "name": "stdout",
     "output_type": "stream",
     "text": [
      "6 epoch. Train loss: 0.009437108780386163\n"
     ]
    },
    {
     "name": "stderr",
     "output_type": "stream",
     "text": [
      "100%|████████████████████████████████████████████████████████████████████████████████| 182/182 [00:03<00:00, 53.85it/s]\n"
     ]
    },
    {
     "name": "stdout",
     "output_type": "stream",
     "text": [
      "\n",
      "\n",
      "              precision    recall  f1-score   support\n",
      "\n",
      "         0.0       0.98      0.97      0.98     13786\n",
      "         1.0       0.79      0.86      0.82       952\n",
      "         2.0       0.76      0.82      0.79       888\n",
      "\n",
      "    accuracy                           0.96     15626\n",
      "   macro avg       0.85      0.88      0.86     15626\n",
      "weighted avg       0.96      0.96      0.96     15626\n",
      "\n"
     ]
    },
    {
     "name": "stderr",
     "output_type": "stream",
     "text": [
      "100%|████████████████████████████████████████████████████████████████████████████████| 547/547 [00:49<00:00, 11.07it/s]\n"
     ]
    },
    {
     "name": "stdout",
     "output_type": "stream",
     "text": [
      "7 epoch. Train loss: 0.011542119039738698\n"
     ]
    },
    {
     "name": "stderr",
     "output_type": "stream",
     "text": [
      "100%|████████████████████████████████████████████████████████████████████████████████| 182/182 [00:03<00:00, 52.40it/s]\n"
     ]
    },
    {
     "name": "stdout",
     "output_type": "stream",
     "text": [
      "\n",
      "\n",
      "              precision    recall  f1-score   support\n",
      "\n",
      "         0.0       0.98      0.97      0.97     13786\n",
      "         1.0       0.75      0.88      0.81       952\n",
      "         2.0       0.76      0.82      0.79       888\n",
      "\n",
      "    accuracy                           0.95     15626\n",
      "   macro avg       0.83      0.89      0.86     15626\n",
      "weighted avg       0.96      0.95      0.95     15626\n",
      "\n"
     ]
    },
    {
     "name": "stderr",
     "output_type": "stream",
     "text": [
      "100%|████████████████████████████████████████████████████████████████████████████████| 547/547 [00:50<00:00, 10.93it/s]\n"
     ]
    },
    {
     "name": "stdout",
     "output_type": "stream",
     "text": [
      "8 epoch. Train loss: 0.007020059171382494\n"
     ]
    },
    {
     "name": "stderr",
     "output_type": "stream",
     "text": [
      "100%|████████████████████████████████████████████████████████████████████████████████| 182/182 [00:03<00:00, 50.44it/s]\n"
     ]
    },
    {
     "name": "stdout",
     "output_type": "stream",
     "text": [
      "\n",
      "\n",
      "              precision    recall  f1-score   support\n",
      "\n",
      "         0.0       0.98      0.97      0.97     13786\n",
      "         1.0       0.76      0.86      0.81       952\n",
      "         2.0       0.75      0.80      0.78       888\n",
      "\n",
      "    accuracy                           0.95     15626\n",
      "   macro avg       0.83      0.88      0.85     15626\n",
      "weighted avg       0.95      0.95      0.95     15626\n",
      "\n"
     ]
    },
    {
     "name": "stderr",
     "output_type": "stream",
     "text": [
      "100%|████████████████████████████████████████████████████████████████████████████████| 547/547 [00:53<00:00, 10.24it/s]\n"
     ]
    },
    {
     "name": "stdout",
     "output_type": "stream",
     "text": [
      "9 epoch. Train loss: 0.006302621101540902\n"
     ]
    },
    {
     "name": "stderr",
     "output_type": "stream",
     "text": [
      "100%|████████████████████████████████████████████████████████████████████████████████| 182/182 [00:03<00:00, 54.75it/s]\n"
     ]
    },
    {
     "name": "stdout",
     "output_type": "stream",
     "text": [
      "\n",
      "\n",
      "              precision    recall  f1-score   support\n",
      "\n",
      "         0.0       0.98      0.96      0.97     13786\n",
      "         1.0       0.72      0.90      0.80       952\n",
      "         2.0       0.76      0.80      0.78       888\n",
      "\n",
      "    accuracy                           0.95     15626\n",
      "   macro avg       0.82      0.89      0.85     15626\n",
      "weighted avg       0.95      0.95      0.95     15626\n",
      "\n"
     ]
    },
    {
     "name": "stderr",
     "output_type": "stream",
     "text": [
      "100%|████████████████████████████████████████████████████████████████████████████████| 547/547 [00:49<00:00, 11.05it/s]\n"
     ]
    },
    {
     "name": "stdout",
     "output_type": "stream",
     "text": [
      "10 epoch. Train loss: 0.0036002260456926343\n"
     ]
    },
    {
     "name": "stderr",
     "output_type": "stream",
     "text": [
      "100%|████████████████████████████████████████████████████████████████████████████████| 182/182 [00:03<00:00, 55.66it/s]\n"
     ]
    },
    {
     "name": "stdout",
     "output_type": "stream",
     "text": [
      "\n",
      "\n",
      "              precision    recall  f1-score   support\n",
      "\n",
      "         0.0       0.99      0.96      0.97     13786\n",
      "         1.0       0.73      0.89      0.80       952\n",
      "         2.0       0.72      0.84      0.77       888\n",
      "\n",
      "    accuracy                           0.95     15626\n",
      "   macro avg       0.81      0.90      0.85     15626\n",
      "weighted avg       0.95      0.95      0.95     15626\n",
      "\n"
     ]
    }
   ],
   "source": [
    "for n_epoch in range(N_EPOCH):\n",
    "    model.train()\n",
    "    train_loss = 0\n",
    "    for batch in tqdm(train_dl):\n",
    "        out = model_NER(**batch)\n",
    "        loss = criterion(out.view(-1, 3), batch['labels'].view(-1))\n",
    "        optimizer.zero_grad()\n",
    "        loss.sum().backward()\n",
    "        optimizer.step()\n",
    "        train_loss += loss.detach().item()\n",
    "    print(f'{n_epoch + 1} epoch. Train loss: {train_loss / len(train_dl)}')\n",
    "    ATE.test_model(model_NER, test_dl)\n",
    "    torch.save(model_NER, f\"./artifacts/model_NER_{n_epoch}.pth\")\n",
    "    # scheduler.step()"
   ]
  },
  {
   "cell_type": "code",
   "execution_count": 22,
   "metadata": {},
   "outputs": [],
   "source": [
    "model_NER = torch.load(\"./artifacts/model_NER_3.pth\")"
   ]
  },
  {
   "cell_type": "code",
   "execution_count": 23,
   "metadata": {
    "id": "hqK3_5-2Qx3R"
   },
   "outputs": [],
   "source": [
    "def inference(text):\n",
    "    with torch.no_grad():\n",
    "        tokens = tokenizer(text)\n",
    "        tokens_batched = {k: torch.tensor(v, device=device).unsqueeze(0) for k, v in tokens.items()}\n",
    "        output = model_NER(**tokens_batched).argmax(dim=2)[0].cpu()\n",
    "        for i in range(len(tokens['input_ids'])):\n",
    "            print(f\"{tokenizer.convert_ids_to_tokens(tokens['input_ids'][i]):<15} {output[i]}\")"
   ]
  },
  {
   "cell_type": "code",
   "execution_count": 24,
   "metadata": {
    "colab": {
     "base_uri": "https://localhost:8080/"
    },
    "id": "5Tsoz1HXRZh5",
    "outputId": "278c6f3c-81a1-4e4e-af91-1c5c2f4b3b6f"
   },
   "outputs": [
    {
     "name": "stdout",
     "output_type": "stream",
     "text": [
      "[CLS]           0\n",
      "Когда           0\n",
      "я               0\n",
      "пришла          0\n",
      "в               0\n",
      "магазин         0\n",
      ",               0\n",
      "меня            0\n",
      "остановил       0\n",
      "охранник        1\n",
      ".               0\n",
      "Не              0\n",
      "знаю            0\n",
      ",               0\n",
      "что             0\n",
      "ему             0\n",
      "там             0\n",
      "показалось      0\n",
      ",               0\n",
      "но              0\n",
      "настроение      0\n",
      "было            0\n",
      "испор           0\n",
      "##чено          0\n",
      ".               0\n",
      "Плюс            0\n",
      "приложение      1\n",
      "показалось      0\n",
      "очень           0\n",
      "тормоз          0\n",
      "##ным           0\n",
      "[SEP]           0\n"
     ]
    }
   ],
   "source": [
    "inference('Когда я пришла в магазин, меня остановил охранник. Не знаю, что ему там показалось, но настроение было испорчено. Плюс приложение показалось очень тормозным')"
   ]
  },
  {
   "cell_type": "markdown",
   "metadata": {
    "id": "Kea7lL5HZ3SJ"
   },
   "source": [
    "# BERT SPC"
   ]
  },
  {
   "cell_type": "code",
   "execution_count": 27,
   "metadata": {},
   "outputs": [],
   "source": [
    "import torch\n",
    "\n",
    "from tqdm import tqdm\n",
    "from transformers import BertModel, AutoTokenizer\n",
    "from torch.utils.data import DataLoader\n",
    "from torch import nn\n",
    "from src.models import SPC"
   ]
  },
  {
   "cell_type": "code",
   "execution_count": 28,
   "metadata": {
    "colab": {
     "base_uri": "https://localhost:8080/",
     "height": 255
    },
    "id": "PotSQKmsZvXI",
    "outputId": "87154a38-6c28-43a5-b2c7-e8a159a9527a"
   },
   "outputs": [
    {
     "data": {
      "text/html": [
       "<div><style>\n",
       ".dataframe > thead > tr > th,\n",
       ".dataframe > tbody > tr > td {\n",
       "  text-align: right;\n",
       "  white-space: pre-wrap;\n",
       "}\n",
       "</style>\n",
       "<small>shape: (5, 7)</small><table border=\"1\" class=\"dataframe\"><thead><tr><th>id</th><th>text</th><th>target</th><th>category</th><th>polarity</th><th>start</th><th>end</th></tr><tr><td>str</td><td>str</td><td>str</td><td>str</td><td>str</td><td>str</td><td>str</td></tr></thead><tbody><tr><td>&quot;27925&quot;</td><td>&quot;Обслуживание х…</td><td>&quot;Обслуживание&quot;</td><td>&quot;SERVICE#GENERA…</td><td>&quot;positive&quot;</td><td>&quot;0&quot;</td><td>&quot;12&quot;</td></tr><tr><td>&quot;27925&quot;</td><td>&quot;Обслуживание х…</td><td>&quot;метрдотель&quot;</td><td>&quot;SERVICE#GENERA…</td><td>&quot;positive&quot;</td><td>&quot;34&quot;</td><td>&quot;44&quot;</td></tr><tr><td>&quot;27925&quot;</td><td>&quot;Он был в уютно…</td><td>&quot;уголке&quot;</td><td>&quot;AMBIENCE#GENER…</td><td>&quot;positive&quot;</td><td>&quot;16&quot;</td><td>&quot;22&quot;</td></tr><tr><td>&quot;27925&quot;</td><td>&quot;Он был в уютно…</td><td>&quot;приглушенный с…</td><td>&quot;AMBIENCE#GENER…</td><td>&quot;positive&quot;</td><td>&quot;46&quot;</td><td>&quot;63&quot;</td></tr><tr><td>&quot;27925&quot;</td><td>&quot;На наш не боль…</td><td>&quot;блюд&quot;</td><td>&quot;FOOD#QUALITY&quot;</td><td>&quot;positive&quot;</td><td>&quot;53&quot;</td><td>&quot;57&quot;</td></tr></tbody></table></div>"
      ],
      "text/plain": [
       "shape: (5, 7)\n",
       "┌───────┬───────────────────────────────────┬───────────────────┬──────────────────┬──────────┬───────┬─────┐\n",
       "│ id    ┆ text                              ┆ target            ┆ category         ┆ polarity ┆ start ┆ end │\n",
       "│ ---   ┆ ---                               ┆ ---               ┆ ---              ┆ ---      ┆ ---   ┆ --- │\n",
       "│ str   ┆ str                               ┆ str               ┆ str              ┆ str      ┆ str   ┆ str │\n",
       "╞═══════╪═══════════════════════════════════╪═══════════════════╪══════════════════╪══════════╪═══════╪═════╡\n",
       "│ 27925 ┆ Обслуживание хорошее нас встрети… ┆ Обслуживание      ┆ SERVICE#GENERAL  ┆ positive ┆ 0     ┆ 12  │\n",
       "│ 27925 ┆ Обслуживание хорошее нас встрети… ┆ метрдотель        ┆ SERVICE#GENERAL  ┆ positive ┆ 34    ┆ 44  │\n",
       "│ 27925 ┆ Он был в уютном уголке в конце г… ┆ уголке            ┆ AMBIENCE#GENERAL ┆ positive ┆ 16    ┆ 22  │\n",
       "│ 27925 ┆ Он был в уютном уголке в конце г… ┆ приглушенный свет ┆ AMBIENCE#GENERAL ┆ positive ┆ 46    ┆ 63  │\n",
       "│ 27925 ┆ На наш не большой банкетик мы за… ┆ блюд              ┆ FOOD#QUALITY     ┆ positive ┆ 53    ┆ 57  │\n",
       "└───────┴───────────────────────────────────┴───────────────────┴──────────────────┴──────────┴───────┴─────┘"
      ]
     },
     "execution_count": 28,
     "metadata": {},
     "output_type": "execute_result"
    }
   ],
   "source": [
    "train.head()"
   ]
  },
  {
   "cell_type": "code",
   "execution_count": 29,
   "metadata": {
    "colab": {
     "base_uri": "https://localhost:8080/",
     "height": 224
    },
    "id": "Q2lnsSByb6nd",
    "outputId": "d860a07b-cdb5-4865-aed9-69075aae599a"
   },
   "outputs": [
    {
     "data": {
      "text/html": [
       "<div><style>\n",
       ".dataframe > thead > tr > th,\n",
       ".dataframe > tbody > tr > td {\n",
       "  text-align: right;\n",
       "  white-space: pre-wrap;\n",
       "}\n",
       "</style>\n",
       "<small>shape: (4, 2)</small><table border=\"1\" class=\"dataframe\"><thead><tr><th>polarity</th><th>counts</th></tr><tr><td>str</td><td>u32</td></tr></thead><tbody><tr><td>&quot;positive&quot;</td><td>3103</td></tr><tr><td>&quot;neutral&quot;</td><td>276</td></tr><tr><td>&quot;negative&quot;</td><td>709</td></tr><tr><td>&quot;conflict&quot;</td><td>1</td></tr></tbody></table></div>"
      ],
      "text/plain": [
       "shape: (4, 2)\n",
       "┌──────────┬────────┐\n",
       "│ polarity ┆ counts │\n",
       "│ ---      ┆ ---    │\n",
       "│ str      ┆ u32    │\n",
       "╞══════════╪════════╡\n",
       "│ positive ┆ 3103   │\n",
       "│ neutral  ┆ 276    │\n",
       "│ negative ┆ 709    │\n",
       "│ conflict ┆ 1      │\n",
       "└──────────┴────────┘"
      ]
     },
     "execution_count": 29,
     "metadata": {},
     "output_type": "execute_result"
    }
   ],
   "source": [
    "train[\"polarity\"].value_counts()"
   ]
  },
  {
   "cell_type": "code",
   "execution_count": 30,
   "metadata": {},
   "outputs": [
    {
     "name": "stderr",
     "output_type": "stream",
     "text": [
      "Some weights of the model checkpoint at DeepPavlov/rubert-base-cased-conversational were not used when initializing BertModel: ['cls.predictions.transform.dense.weight', 'cls.predictions.bias', 'cls.predictions.decoder.bias', 'cls.predictions.decoder.weight', 'cls.predictions.transform.LayerNorm.weight', 'cls.predictions.transform.LayerNorm.bias', 'cls.seq_relationship.bias', 'cls.seq_relationship.weight', 'cls.predictions.transform.dense.bias']\n",
      "- This IS expected if you are initializing BertModel from the checkpoint of a model trained on another task or with another architecture (e.g. initializing a BertForSequenceClassification model from a BertForPreTraining model).\n",
      "- This IS NOT expected if you are initializing BertModel from the checkpoint of a model that you expect to be exactly identical (initializing a BertForSequenceClassification model from a BertForSequenceClassification model).\n"
     ]
    }
   ],
   "source": [
    "tokenizer = AutoTokenizer.from_pretrained('DeepPavlov/rubert-base-cased-conversational')\n",
    "model = BertModel.from_pretrained('DeepPavlov/rubert-base-cased-conversational')"
   ]
  },
  {
   "cell_type": "code",
   "execution_count": 31,
   "metadata": {},
   "outputs": [
    {
     "name": "stdout",
     "output_type": "stream",
     "text": [
      "\n"
     ]
    }
   ],
   "source": [
    "device = torch.device('cuda' if torch.cuda.is_available() else 'cpu')\n",
    "model.to(device)\n",
    "print()"
   ]
  },
  {
   "cell_type": "code",
   "execution_count": 32,
   "metadata": {
    "colab": {
     "base_uri": "https://localhost:8080/"
    },
    "id": "rVCHYkF7gJ7C",
    "outputId": "d5a66936-c2c8-4eb9-a684-555a87deec06"
   },
   "outputs": [
    {
     "data": {
      "text/plain": [
       "{'input_ids': [101, 2808, 70291, 7720, 1159, 18992, 21160, 42066, 1644, 322, 12150, 849, 42177, 303, 1318, 4065, 1517, 2361, 1721, 132, 102, 2808, 70291, 102], 'token_type_ids': [0, 0, 0, 0, 0, 0, 0, 0, 0, 0, 0, 0, 0, 0, 0, 0, 0, 0, 0, 0, 0, 1, 1, 1], 'attention_mask': [1, 1, 1, 1, 1, 1, 1, 1, 1, 1, 1, 1, 1, 1, 1, 1, 1, 1, 1, 1, 1, 1, 1, 1], 'labels': 2}"
      ]
     },
     "execution_count": 32,
     "metadata": {},
     "output_type": "execute_result"
    }
   ],
   "source": [
    "train_ds = SPC.TrainDataset(train, tokenizer)\n",
    "test_ds = SPC.TrainDataset(test, tokenizer)\n",
    "\n",
    "train_ds[0]"
   ]
  },
  {
   "cell_type": "code",
   "execution_count": 33,
   "metadata": {
    "id": "ZCCjPn8k57Fr"
   },
   "outputs": [],
   "source": [
    "train_dl = DataLoader(train_ds, collate_fn=SPC.collate_fn, batch_size=10, shuffle=True)\n",
    "test_dl = DataLoader(test_ds, collate_fn=SPC.collate_fn, batch_size=10)"
   ]
  },
  {
   "cell_type": "code",
   "execution_count": 34,
   "metadata": {
    "id": "lE7SBVDL8Ujd"
   },
   "outputs": [],
   "source": [
    "N_EPOCH = 10\n",
    "NUM_CLASSES = 3\n",
    "\n",
    "model_CLF = SPC.BertForAspectClassification(bert=model, num_labels=NUM_CLASSES, freeze_bert=False)\n",
    "criterion = nn.CrossEntropyLoss(weight=torch.tensor([0.4, 0.4, 0.2], device=device))\n",
    "optimizer = torch.optim.Adam(params=model_CLF.parameters(), lr=1e-5)"
   ]
  },
  {
   "cell_type": "code",
   "execution_count": 35,
   "metadata": {
    "colab": {
     "base_uri": "https://localhost:8080/"
    },
    "id": "mkxRtn81neXM",
    "outputId": "c49fff65-ad3c-4c17-9308-307fa78b820b"
   },
   "outputs": [
    {
     "name": "stderr",
     "output_type": "stream",
     "text": [
      "100%|████████████████████████████████████████████████████████████████████████████████| 409/409 [01:04<00:00,  6.34it/s]\n",
      "100%|████████████████████████████████████████████████████████████████████████████████| 130/130 [00:04<00:00, 29.58it/s]\n"
     ]
    },
    {
     "name": "stdout",
     "output_type": "stream",
     "text": [
      "\n",
      "\n",
      "              precision    recall  f1-score   support\n",
      "\n",
      "         0.0       0.79      0.81      0.80       321\n",
      "         1.0       0.51      0.42      0.46       103\n",
      "         2.0       0.89      0.91      0.90       870\n",
      "\n",
      "    accuracy                           0.84      1294\n",
      "   macro avg       0.73      0.71      0.72      1294\n",
      "weighted avg       0.84      0.84      0.84      1294\n",
      "\n",
      "1 epoch. Train loss: 0.6330263851287895\n"
     ]
    },
    {
     "name": "stderr",
     "output_type": "stream",
     "text": [
      "100%|████████████████████████████████████████████████████████████████████████████████| 409/409 [01:04<00:00,  6.38it/s]\n",
      "100%|████████████████████████████████████████████████████████████████████████████████| 130/130 [00:04<00:00, 29.61it/s]\n"
     ]
    },
    {
     "name": "stdout",
     "output_type": "stream",
     "text": [
      "\n",
      "\n",
      "              precision    recall  f1-score   support\n",
      "\n",
      "         0.0       0.79      0.84      0.82       321\n",
      "         1.0       0.74      0.19      0.31       103\n",
      "         2.0       0.89      0.94      0.91       870\n",
      "\n",
      "    accuracy                           0.86      1294\n",
      "   macro avg       0.81      0.66      0.68      1294\n",
      "weighted avg       0.85      0.86      0.84      1294\n",
      "\n",
      "2 epoch. Train loss: 0.3489116454282935\n"
     ]
    },
    {
     "name": "stderr",
     "output_type": "stream",
     "text": [
      "100%|████████████████████████████████████████████████████████████████████████████████| 409/409 [01:03<00:00,  6.41it/s]\n",
      "100%|████████████████████████████████████████████████████████████████████████████████| 130/130 [00:04<00:00, 28.73it/s]\n"
     ]
    },
    {
     "name": "stdout",
     "output_type": "stream",
     "text": [
      "\n",
      "\n",
      "              precision    recall  f1-score   support\n",
      "\n",
      "         0.0       0.85      0.83      0.84       321\n",
      "         1.0       0.58      0.44      0.50       103\n",
      "         2.0       0.91      0.94      0.93       870\n",
      "\n",
      "    accuracy                           0.87      1294\n",
      "   macro avg       0.78      0.74      0.76      1294\n",
      "weighted avg       0.87      0.87      0.87      1294\n",
      "\n",
      "3 epoch. Train loss: 0.20229277840171073\n"
     ]
    },
    {
     "name": "stderr",
     "output_type": "stream",
     "text": [
      "100%|████████████████████████████████████████████████████████████████████████████████| 409/409 [01:04<00:00,  6.37it/s]\n",
      "100%|████████████████████████████████████████████████████████████████████████████████| 130/130 [00:04<00:00, 29.32it/s]\n"
     ]
    },
    {
     "name": "stdout",
     "output_type": "stream",
     "text": [
      "\n",
      "\n",
      "              precision    recall  f1-score   support\n",
      "\n",
      "         0.0       0.88      0.78      0.83       321\n",
      "         1.0       0.38      0.77      0.51       103\n",
      "         2.0       0.94      0.87      0.90       870\n",
      "\n",
      "    accuracy                           0.84      1294\n",
      "   macro avg       0.74      0.81      0.75      1294\n",
      "weighted avg       0.88      0.84      0.85      1294\n",
      "\n",
      "4 epoch. Train loss: 0.12782159703499058\n"
     ]
    },
    {
     "name": "stderr",
     "output_type": "stream",
     "text": [
      "100%|████████████████████████████████████████████████████████████████████████████████| 409/409 [01:04<00:00,  6.36it/s]\n",
      "100%|████████████████████████████████████████████████████████████████████████████████| 130/130 [00:04<00:00, 29.59it/s]\n"
     ]
    },
    {
     "name": "stdout",
     "output_type": "stream",
     "text": [
      "\n",
      "\n",
      "              precision    recall  f1-score   support\n",
      "\n",
      "         0.0       0.85      0.83      0.84       321\n",
      "         1.0       0.46      0.51      0.49       103\n",
      "         2.0       0.92      0.92      0.92       870\n",
      "\n",
      "    accuracy                           0.86      1294\n",
      "   macro avg       0.75      0.75      0.75      1294\n",
      "weighted avg       0.87      0.86      0.87      1294\n",
      "\n",
      "5 epoch. Train loss: 0.08033971148793538\n"
     ]
    },
    {
     "name": "stderr",
     "output_type": "stream",
     "text": [
      "100%|████████████████████████████████████████████████████████████████████████████████| 409/409 [01:04<00:00,  6.36it/s]\n",
      "100%|████████████████████████████████████████████████████████████████████████████████| 130/130 [00:04<00:00, 29.57it/s]\n"
     ]
    },
    {
     "name": "stdout",
     "output_type": "stream",
     "text": [
      "\n",
      "\n",
      "              precision    recall  f1-score   support\n",
      "\n",
      "         0.0       0.90      0.74      0.82       321\n",
      "         1.0       0.56      0.37      0.44       103\n",
      "         2.0       0.87      0.97      0.92       870\n",
      "\n",
      "    accuracy                           0.86      1294\n",
      "   macro avg       0.78      0.69      0.73      1294\n",
      "weighted avg       0.86      0.86      0.85      1294\n",
      "\n",
      "6 epoch. Train loss: 0.059022617586694824\n"
     ]
    },
    {
     "name": "stderr",
     "output_type": "stream",
     "text": [
      "100%|████████████████████████████████████████████████████████████████████████████████| 409/409 [01:04<00:00,  6.38it/s]\n",
      "100%|████████████████████████████████████████████████████████████████████████████████| 130/130 [00:04<00:00, 29.45it/s]\n"
     ]
    },
    {
     "name": "stdout",
     "output_type": "stream",
     "text": [
      "\n",
      "\n",
      "              precision    recall  f1-score   support\n",
      "\n",
      "         0.0       0.81      0.88      0.84       321\n",
      "         1.0       0.57      0.45      0.50       103\n",
      "         2.0       0.92      0.92      0.92       870\n",
      "\n",
      "    accuracy                           0.87      1294\n",
      "   macro avg       0.77      0.75      0.75      1294\n",
      "weighted avg       0.87      0.87      0.87      1294\n",
      "\n",
      "7 epoch. Train loss: 0.06770522255919564\n"
     ]
    },
    {
     "name": "stderr",
     "output_type": "stream",
     "text": [
      "100%|████████████████████████████████████████████████████████████████████████████████| 409/409 [01:04<00:00,  6.33it/s]\n",
      "100%|████████████████████████████████████████████████████████████████████████████████| 130/130 [00:04<00:00, 29.26it/s]\n"
     ]
    },
    {
     "name": "stdout",
     "output_type": "stream",
     "text": [
      "\n",
      "\n",
      "              precision    recall  f1-score   support\n",
      "\n",
      "         0.0       0.86      0.83      0.84       321\n",
      "         1.0       0.60      0.31      0.41       103\n",
      "         2.0       0.89      0.95      0.92       870\n",
      "\n",
      "    accuracy                           0.87      1294\n",
      "   macro avg       0.78      0.70      0.72      1294\n",
      "weighted avg       0.86      0.87      0.86      1294\n",
      "\n",
      "8 epoch. Train loss: 0.03140188364809024\n"
     ]
    },
    {
     "name": "stderr",
     "output_type": "stream",
     "text": [
      "100%|████████████████████████████████████████████████████████████████████████████████| 409/409 [01:04<00:00,  6.32it/s]\n",
      "100%|████████████████████████████████████████████████████████████████████████████████| 130/130 [00:04<00:00, 29.50it/s]\n"
     ]
    },
    {
     "name": "stdout",
     "output_type": "stream",
     "text": [
      "\n",
      "\n",
      "              precision    recall  f1-score   support\n",
      "\n",
      "         0.0       0.87      0.78      0.82       321\n",
      "         1.0       0.51      0.44      0.47       103\n",
      "         2.0       0.90      0.95      0.92       870\n",
      "\n",
      "    accuracy                           0.86      1294\n",
      "   macro avg       0.76      0.72      0.74      1294\n",
      "weighted avg       0.86      0.86      0.86      1294\n",
      "\n",
      "9 epoch. Train loss: 0.03128118349098621\n"
     ]
    },
    {
     "name": "stderr",
     "output_type": "stream",
     "text": [
      "100%|████████████████████████████████████████████████████████████████████████████████| 409/409 [01:03<00:00,  6.41it/s]\n",
      "100%|████████████████████████████████████████████████████████████████████████████████| 130/130 [00:04<00:00, 29.54it/s]\n"
     ]
    },
    {
     "name": "stdout",
     "output_type": "stream",
     "text": [
      "\n",
      "\n",
      "              precision    recall  f1-score   support\n",
      "\n",
      "         0.0       0.79      0.90      0.84       321\n",
      "         1.0       0.61      0.42      0.50       103\n",
      "         2.0       0.93      0.92      0.93       870\n",
      "\n",
      "    accuracy                           0.87      1294\n",
      "   macro avg       0.78      0.75      0.76      1294\n",
      "weighted avg       0.87      0.87      0.87      1294\n",
      "\n",
      "10 epoch. Train loss: 0.0373853976198718\n"
     ]
    }
   ],
   "source": [
    "for n_epoch in range(N_EPOCH):\n",
    "    model.train()\n",
    "    train_loss = 0\n",
    "    for batch in tqdm(train_dl):\n",
    "        out = model_CLF(**batch)\n",
    "        loss = criterion(out.view(-1, NUM_CLASSES), batch['labels'].view(-1))\n",
    "        optimizer.zero_grad()\n",
    "        loss.sum().backward()\n",
    "        optimizer.step()\n",
    "        train_loss += loss.detach().item()\n",
    "    SPC.test_model(model_CLF, test_dl)\n",
    "    torch.save(model_CLF, f\"./artifacts/model_CLF_{n_epoch}.pth\")\n",
    "    print(f'{n_epoch + 1} epoch. Train loss: {train_loss / len(train_dl)}')"
   ]
  },
  {
   "cell_type": "markdown",
   "metadata": {},
   "source": [
    "# YandexGPT ATE zero shot"
   ]
  },
  {
   "cell_type": "code",
   "execution_count": 31,
   "metadata": {},
   "outputs": [],
   "source": [
    "import requests\n",
    "\n",
    "OAUTH_TOKEN = ''\n",
    "\n",
    "resp = requests.post('https://iam.api.cloud.yandex.net/iam/v1/tokens', params={\"yandexPassportOauthToken\":f\"{OAUTH_TOKEN}\"})\n",
    "IAM_TOKEN = resp.json()['iamToken']"
   ]
  },
  {
   "cell_type": "code",
   "execution_count": 32,
   "metadata": {},
   "outputs": [],
   "source": [
    "folder_id = ''"
   ]
  },
  {
   "cell_type": "code",
   "execution_count": 27,
   "metadata": {},
   "outputs": [],
   "source": [
    "system_promt = \"Ты профессиональный разметчик данных для задач машинного обучения. Разметь данные для задачи Aspect Based Sentiment Analysis. Тебе необходимо найти аспект в отзыве и определить его полярность. Отвечай в формате: {aspect: sentiment_polarity}. Сохраняй форму слова как в тексте. Доступные варианты sentiment_polarity: позитивный, нейтральный, негативный. Если аспекта нет, оставляй пустое поле: {}\""
   ]
  },
  {
   "cell_type": "code",
   "execution_count": 41,
   "metadata": {},
   "outputs": [],
   "source": [
    "import requests\n",
    "import argparse\n",
    "import polars as pl\n",
    "\n",
    "URL = \"https://llm.api.cloud.yandex.net/foundationModels/v1/completion\"\n",
    "\n",
    "def run(iam_token, folder_id, user_text):    \n",
    "    # Собираем запрос\n",
    "    data = {}\n",
    "    # Указываем тип модели\n",
    "    data[\"modelUri\"] = f\"gpt://{folder_id}/yandexgpt-lite/latest\"\n",
    "    # Настраиваем опции\n",
    "    data[\"completionOptions\"] = {\"temperature\": 0.3, \"maxTokens\": 1000}\n",
    "    # Указываем контекст для модели\n",
    "    data[\"messages\"] = [\n",
    "        {\"role\": \"system\", \"text\": system_promt},\n",
    "        {\"role\": \"user\", \"text\": f\"{user_text}\"},\n",
    "    ]\n",
    "    \n",
    "    # Отправляем запрос\n",
    "    response = requests.post(\n",
    "        URL,\n",
    "        headers={\n",
    "            \"Accept\": \"application/json\",\n",
    "            \"Authorization\": f\"Bearer {iam_token}\"\n",
    "        },\n",
    "        json=data,\n",
    "    ).json()\n",
    "\n",
    "    return response"
   ]
  },
  {
   "cell_type": "code",
   "execution_count": 39,
   "metadata": {},
   "outputs": [],
   "source": [
    "test_gpt = test.group_by('id', 'text').agg([i for i in test.columns if i not in ('id', 'text')])"
   ]
  },
  {
   "cell_type": "code",
   "execution_count": 70,
   "metadata": {},
   "outputs": [
    {
     "name": "stderr",
     "output_type": "stream",
     "text": [
      "100%|████████████████████████████████████████████████████████████████████████████████| 908/908 [05:47<00:00,  2.61it/s]\n"
     ]
    }
   ],
   "source": [
    "ids = []\n",
    "texts = []\n",
    "answers = []\n",
    "tokens_count = []\n",
    "\n",
    "for row in tqdm(test_gpt.iter_rows(), total=test_gpt.shape[0]):\n",
    "    ids.append(row[0])\n",
    "    texts.append(row[1])\n",
    "    result = run(IAM_TOKEN, folder_id, row[1])\n",
    "    answers.append(result['result']['alternatives'][0]['message']['text'])\n",
    "    tokens_count.append(int(result['result']['usage']['totalTokens']))\n",
    "    \n",
    "test_gpt_answers = pl.DataFrame({\n",
    "    'id': ids,\n",
    "    'text': texts,\n",
    "    'gpt_answers': answers,\n",
    "    'tokens_count': tokens_count\n",
    "})"
   ]
  },
  {
   "cell_type": "code",
   "execution_count": 171,
   "metadata": {},
   "outputs": [
    {
     "name": "stdout",
     "output_type": "stream",
     "text": [
      "Стоимость: 20.723 рублей\n"
     ]
    }
   ],
   "source": [
    "print(f\"Стоимость: {test_gpt_answers['tokens_count'].sum() / 1000 * 0.2} рублей\")"
   ]
  },
  {
   "cell_type": "code",
   "execution_count": 78,
   "metadata": {},
   "outputs": [],
   "source": [
    "test_gpt_answers.write_parquet('test_gpt_answers.paquet')"
   ]
  },
  {
   "cell_type": "code",
   "execution_count": 188,
   "metadata": {},
   "outputs": [],
   "source": [
    "polarity_mapping = {\n",
    "    \"позитивный\": \"positive\",\n",
    "    \"негативный\": \"negative\",\n",
    "    \"нейтральный\": \"neutral\",\n",
    "}\n",
    "\n",
    "def try_eval(x):\n",
    "    if x == \"{}\":\n",
    "        return {}\n",
    "    try:\n",
    "        words = []\n",
    "        polarity = []\n",
    "        x = x.replace('\\n', '')\n",
    "        for aspects in x.split(\"}{\"):\n",
    "            words.append(aspects.split(\":\")[0].strip().replace(\"{\", \"\"))\n",
    "            polarity.append(polarity_mapping.get(aspects.split(\":\")[1].strip().replace(\"}\", \"\")))\n",
    "        return (words, polarity)\n",
    "    except:\n",
    "        return {}"
   ]
  },
  {
   "cell_type": "code",
   "execution_count": 189,
   "metadata": {},
   "outputs": [],
   "source": [
    "test_gpt_answers = test_gpt_answers.with_columns(pl.col('gpt_answers').map_elements(try_eval).alias('raw'))"
   ]
  },
  {
   "cell_type": "code",
   "execution_count": 367,
   "metadata": {},
   "outputs": [],
   "source": [
    "import re\n",
    "\n",
    "def find_sentiment_offset(struct):\n",
    "    try:\n",
    "        target_normal_form = morph.parse(struct['target'])[0].normal_form\n",
    "        for word in struct['text'].split():\n",
    "            for i in \"\"\"'!\"#$%&\\'()*+,-./:;<=>?@[\\\\]^_`{|}~']\"\"\":\n",
    "                word = word.replace(i, \"\") \n",
    "            word_normal_form = morph.parse(word)[0].normal_form\n",
    "            if target_normal_form == word_normal_form:\n",
    "                span = re.search(word, struct['text'], re.IGNORECASE).span()\n",
    "                if len(span) > 0:\n",
    "                    return span\n",
    "        span = re.search(struct['target'], struct['text'], re.IGNORECASE).span()\n",
    "        return span if len(span) > 0 else [0, 0]\n",
    "    except Exception as e:\n",
    "#         print(e)\n",
    "        return None"
   ]
  },
  {
   "cell_type": "code",
   "execution_count": null,
   "metadata": {
    "scrolled": true
   },
   "outputs": [],
   "source": [
    "test_gpt_answers = test_gpt_answers.with_columns(pl.col('raw').map_elements(lambda x: x[0]).alias('target'),\n",
    "                                                  pl.col('raw').map_elements(lambda x: x[1]).alias('polarity'))"
   ]
  },
  {
   "cell_type": "code",
   "execution_count": 211,
   "metadata": {},
   "outputs": [],
   "source": [
    "test_gpt_answers = test_gpt_answers.explode(['target', 'polarity']).drop('raw')"
   ]
  },
  {
   "cell_type": "code",
   "execution_count": 371,
   "metadata": {},
   "outputs": [],
   "source": [
    "test_gpt_answers = test_gpt_answers.with_columns(pl.struct([pl.col('text'), pl.col('target')]).map_elements(find_sentiment_offset).alias('span'))"
   ]
  },
  {
   "cell_type": "code",
   "execution_count": 372,
   "metadata": {},
   "outputs": [],
   "source": [
    "test_gpt_answers = test_gpt_answers.with_columns(pl.when(pl.col('span').list.len() < 2).then([0, 0]).otherwise(pl.col('span')).alias('span'))"
   ]
  },
  {
   "cell_type": "code",
   "execution_count": 373,
   "metadata": {},
   "outputs": [],
   "source": [
    "test_gpt_answers = test_gpt_answers.with_columns(pl.col('span').map_elements(lambda x: x[0]).alias('start'),\n",
    "                                                  pl.col('span').map_elements(lambda x: x[1]).alias('end'))"
   ]
  },
  {
   "cell_type": "code",
   "execution_count": 464,
   "metadata": {},
   "outputs": [],
   "source": [
    "def get_labels(df, idx):\n",
    "    row = df.filter(df['id'] == idx).row(0, named=True)\n",
    "    encoding = tokenizer(row['text'], return_offsets_mapping=True)\n",
    "    labels = [0] * len(encoding['input_ids'])\n",
    "\n",
    "    for start, end, target in zip(row['start'], row['end'], row['target']):\n",
    "        if target != \"NULL\":\n",
    "            for n, border in enumerate(encoding['offset_mapping']):\n",
    "                if sum(border) > 0:\n",
    "                    if border[0] == int(start) :\n",
    "                        labels[n] = 1\n",
    "                    elif border[0] > int(start) and border[1] <= int(end):\n",
    "                        labels[n] = 2\n",
    "    return labels"
   ]
  },
  {
   "cell_type": "code",
   "execution_count": 375,
   "metadata": {},
   "outputs": [],
   "source": [
    "test_gpt_answers_grouped = test_gpt_answers.group_by('id', 'text').agg([i for i in test_gpt_answers.columns if i not in ('id', 'text')])"
   ]
  },
  {
   "cell_type": "code",
   "execution_count": 438,
   "metadata": {},
   "outputs": [],
   "source": [
    "# test_gpt_answers_grouped = test_gpt_answers_grouped.join(test.select(['id', 'text']).unique(), on='text').drop('id').rename({'id_right': 'id'})"
   ]
  },
  {
   "cell_type": "code",
   "execution_count": 445,
   "metadata": {},
   "outputs": [],
   "source": [
    "test_gpt_answers_grouped = test_gpt_answers_grouped.sort('id')\n",
    "test_grouped = test_grouped.sort('id')"
   ]
  },
  {
   "cell_type": "code",
   "execution_count": 475,
   "metadata": {},
   "outputs": [
    {
     "name": "stdout",
     "output_type": "stream",
     "text": [
      "Разметка YandexGPT\n",
      "\n",
      "[CLS]           0\n",
      "\"               0\n",
      "Крем            0\n",
      "-               0\n",
      "суп             0\n",
      "из              0\n",
      "белых           0\n",
      "грибов          0\n",
      "\"               0\n",
      "-               0\n",
      "вкусно          1\n",
      ",               0\n",
      "рекомендую      0\n",
      ",               0\n",
      "понравилось     0\n",
      "всем            0\n",
      "трои            0\n",
      "##м             0\n",
      ":               0\n",
      ")               0\n",
      "[SEP]           0\n"
     ]
    }
   ],
   "source": [
    "print('Разметка YandexGPT', end='\\n\\n')\n",
    "for t, l in zip([tokenizer.convert_ids_to_tokens(i) for i in tokenizer(test_gpt_answers_grouped.filter(pl.col('id') == 1)['text'].item())['input_ids']], \n",
    "                get_labels(test_gpt_answers_grouped, 1)):\n",
    "    print(f'{t:<15} {l}')"
   ]
  },
  {
   "cell_type": "code",
   "execution_count": 476,
   "metadata": {},
   "outputs": [
    {
     "name": "stdout",
     "output_type": "stream",
     "text": [
      "Разметка ассесоров\n",
      "\n",
      "[CLS]           0\n",
      "\"               0\n",
      "Крем            1\n",
      "-               2\n",
      "суп             2\n",
      "из              2\n",
      "белых           2\n",
      "грибов          2\n",
      "\"               0\n",
      "-               0\n",
      "вкусно          0\n",
      ",               0\n",
      "рекомендую      0\n",
      ",               0\n",
      "понравилось     0\n",
      "всем            0\n",
      "трои            0\n",
      "##м             0\n",
      ":               0\n",
      ")               0\n",
      "[SEP]           0\n"
     ]
    }
   ],
   "source": [
    "print('Разметка ассесоров', end='\\n\\n')\n",
    "for t, l in zip([tokenizer.convert_ids_to_tokens(i) for i in tokenizer(test_grouped.filter(pl.col('id') == 1)['text'].item())['input_ids']], \n",
    "                get_labels(test_grouped, 1)):\n",
    "    print(f'{t:<15} {l}')"
   ]
  },
  {
   "cell_type": "code",
   "execution_count": 477,
   "metadata": {},
   "outputs": [
    {
     "name": "stdout",
     "output_type": "stream",
     "text": [
      "(1, '\"Крем-суп из белых грибов\" - вкусно, рекомендую, понравилось всем троим :)', ['Крем-суп из белых грибов'], ['FOOD#QUALITY'], ['positive'], ['1'], ['25'])\n",
      "[0, 0, 1, 2, 2, 2, 2, 2, 0, 0, 0, 0, 0, 0, 0, 0, 0, 0, 0, 0, 0]\n",
      "[0, 0, 0, 0, 0, 0, 0, 0, 0, 0, 1, 0, 0, 0, 0, 0, 0, 0, 0, 0, 0]\n"
     ]
    }
   ],
   "source": [
    "for row in test_grouped.iter_rows():\n",
    "    print(row)\n",
    "    print(get_labels(test_grouped, row[0]))\n",
    "    print(get_labels(test_gpt_answers_grouped, row[0]))\n",
    "    break"
   ]
  },
  {
   "cell_type": "code",
   "execution_count": 478,
   "metadata": {},
   "outputs": [],
   "source": [
    "y_true = []\n",
    "y_pred_gpt = []\n",
    "for row in test_grouped.iter_rows():\n",
    "    y_true.extend(get_labels(test_grouped, row[0]))\n",
    "    y_pred_gpt.extend(get_labels(test_gpt_answers_grouped, row[0]))"
   ]
  },
  {
   "cell_type": "code",
   "execution_count": 480,
   "metadata": {},
   "outputs": [
    {
     "name": "stdout",
     "output_type": "stream",
     "text": [
      "              precision    recall  f1-score   support\n",
      "\n",
      "           0       0.94      0.96      0.95     15594\n",
      "           1       0.53      0.52      0.52       951\n",
      "           2       0.60      0.36      0.45       888\n",
      "\n",
      "    accuracy                           0.91     17433\n",
      "   macro avg       0.69      0.61      0.64     17433\n",
      "weighted avg       0.90      0.91      0.90     17433\n",
      "\n"
     ]
    }
   ],
   "source": [
    "from sklearn.metrics import classification_report\n",
    "\n",
    "print(classification_report(y_true, y_pred_gpt))"
   ]
  },
  {
   "cell_type": "markdown",
   "metadata": {},
   "source": [
    "# YandexGPT SPC zero shot"
   ]
  },
  {
   "cell_type": "code",
   "execution_count": 518,
   "metadata": {},
   "outputs": [],
   "source": [
    "test_gpt_answers = test_gpt_answers.with_columns(pl.col('target').map_elements(lambda x: morph.parse(x)[0].normal_form).alias('normal_form'))\n",
    "test = test.with_columns(pl.col('target').map_elements(lambda x: morph.parse(x)[0].normal_form).alias('normal_form'))"
   ]
  },
  {
   "cell_type": "code",
   "execution_count": 537,
   "metadata": {},
   "outputs": [],
   "source": [
    "test_spc_merged = test.join(test_gpt_answers, on=['id', 'normal_form'])"
   ]
  },
  {
   "cell_type": "code",
   "execution_count": 553,
   "metadata": {},
   "outputs": [],
   "source": [
    "test_spc_merged = test_spc_merged.filter(pl.col('polarity') != 'conflict')"
   ]
  },
  {
   "cell_type": "code",
   "execution_count": 557,
   "metadata": {},
   "outputs": [],
   "source": [
    "y_true = []\n",
    "y_pred_gpt = []\n",
    "for row in test_spc_merged.iter_rows(named=True):\n",
    "    if row['polarity_right'] and row['polarity']:\n",
    "        y_true.append(row['polarity'])\n",
    "        y_pred_gpt.append(row['polarity_right'])"
   ]
  },
  {
   "cell_type": "code",
   "execution_count": 558,
   "metadata": {},
   "outputs": [
    {
     "name": "stdout",
     "output_type": "stream",
     "text": [
      "              precision    recall  f1-score   support\n",
      "\n",
      "    negative       0.88      0.87      0.88        97\n",
      "     neutral       0.67      0.07      0.13        57\n",
      "    positive       0.84      0.99      0.91       304\n",
      "\n",
      "    accuracy                           0.85       458\n",
      "   macro avg       0.80      0.64      0.64       458\n",
      "weighted avg       0.83      0.85      0.80       458\n",
      "\n"
     ]
    }
   ],
   "source": [
    "from sklearn.metrics import classification_report\n",
    "\n",
    "print(classification_report(y_true, y_pred_gpt))"
   ]
  },
  {
   "cell_type": "code",
   "execution_count": null,
   "metadata": {},
   "outputs": [],
   "source": []
  }
 ],
 "metadata": {
  "accelerator": "GPU",
  "colab": {
   "collapsed_sections": [
    "gZYg4h-7Qcbd"
   ],
   "gpuType": "T4",
   "provenance": []
  },
  "kernelspec": {
   "display_name": "Python 3 (ipykernel)",
   "language": "python",
   "name": "python3"
  },
  "language_info": {
   "codemirror_mode": {
    "name": "ipython",
    "version": 3
   },
   "file_extension": ".py",
   "mimetype": "text/x-python",
   "name": "python",
   "nbconvert_exporter": "python",
   "pygments_lexer": "ipython3",
   "version": "3.11.5"
  }
 },
 "nbformat": 4,
 "nbformat_minor": 1
}
